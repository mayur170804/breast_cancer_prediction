{
 "cells": [
  {
   "cell_type": "code",
   "execution_count": null,
   "id": "f9110404-d62e-45f9-a8ae-431ed97e36ec",
   "metadata": {},
   "outputs": [],
   "source": [
    "import numpy as np\n",
    "import pandas as pd\n",
    "import sklearn.datasets\n",
    "from sklearn.model_selection import train_test_split\n",
    "from sklearn.linear_model import LogisticRegression\n",
    "from sklearn.metrics import accuracy_score"
   ]
  },
  {
   "cell_type": "code",
   "execution_count": null,
   "id": "ff02f123-c949-4335-ad44-c8434544a777",
   "metadata": {},
   "outputs": [],
   "source": [
    "breast_cancer_dataset = sklearn.datasets.load_breast_cancer()\n",
    "print(breast_cancer_dataset)"
   ]
  },
  {
   "cell_type": "code",
   "execution_count": null,
   "id": "28ff3a58-9672-4e45-8bfd-5c8327d8064a",
   "metadata": {},
   "outputs": [],
   "source": [
    "data_frame = pd.DataFrame(breast_cancer_dataset.data, columns = breast_cancer_dataset.feature_names)"
   ]
  },
  {
   "cell_type": "code",
   "execution_count": null,
   "id": "26e4fa90-8ae9-4db0-996d-db234df70324",
   "metadata": {},
   "outputs": [],
   "source": [
    "data_frame.isnull().sum()\n",
    "data_frame.describe()"
   ]
  },
  {
   "cell_type": "code",
   "execution_count": null,
   "id": "538f4639-d597-40a1-bcba-db4fc1869dc0",
   "metadata": {},
   "outputs": [],
   "source": [
    "data_frame['label'].value_counts()\n",
    "print(data_frame.columns)"
   ]
  },
  {
   "cell_type": "code",
   "execution_count": null,
   "id": "b276b2e6-bfa9-4ba7-9a57-24267550f9e5",
   "metadata": {},
   "outputs": [],
   "source": [
    "data_frame.head()"
   ]
  },
  {
   "cell_type": "code",
   "execution_count": null,
   "id": "4ca5c7d3-8627-4cc4-b084-3ce3563fd08c",
   "metadata": {},
   "outputs": [],
   "source": [
    "data_frame['label'] = breast_cancer_dataset.target"
   ]
  },
  {
   "cell_type": "code",
   "execution_count": null,
   "id": "c10bb1b8-27eb-42b1-b870-74529be7716c",
   "metadata": {},
   "outputs": [],
   "source": [
    "data_frame['label'].value_counts()"
   ]
  },
  {
   "cell_type": "code",
   "execution_count": null,
   "id": "66d27e55-0ad4-4998-83cd-769af387e3c2",
   "metadata": {},
   "outputs": [],
   "source": [
    "x = data_frame.drop(columns='label', axis=1)\n",
    "y = data_frame['label']"
   ]
  },
  {
   "cell_type": "code",
   "execution_count": null,
   "id": "5b31a284-5a37-4bcd-8a7a-7ab11d81b6ab",
   "metadata": {},
   "outputs": [],
   "source": [
    "print(x)\n",
    "print(y)"
   ]
  },
  {
   "cell_type": "code",
   "execution_count": null,
   "id": "a17a1922-3c09-4afa-a211-aa6a3fb8ee7a",
   "metadata": {},
   "outputs": [],
   "source": [
    "x_train , x_test , y_train , y_test = train_test_split(x,y,test_size=0.2,random_state=2)"
   ]
  },
  {
   "cell_type": "code",
   "execution_count": null,
   "id": "437fdb2b-4013-4833-8990-7611dfb93fe8",
   "metadata": {},
   "outputs": [],
   "source": [
    "print(x.shape, x_train.shape, x_test.shape)"
   ]
  },
  {
   "cell_type": "code",
   "execution_count": null,
   "id": "2dd08a34-3036-451b-8a88-225f6f855ec7",
   "metadata": {},
   "outputs": [],
   "source": [
    "model = LogisticRegression()"
   ]
  },
  {
   "cell_type": "code",
   "execution_count": null,
   "id": "bd420b7e-4947-45ad-9ba1-94ccc86f2aa4",
   "metadata": {},
   "outputs": [],
   "source": [
    "model.fit(x_train , y_train)"
   ]
  },
  {
   "cell_type": "code",
   "execution_count": null,
   "id": "aecb69a5-31a8-4c45-a890-d4e42686f821",
   "metadata": {},
   "outputs": [],
   "source": [
    "x_train_prediction = model.predict(x_train)\n",
    "training_data_accuracy = accuracy_score(y_train, x_train_prediction)"
   ]
  },
  {
   "cell_type": "code",
   "execution_count": null,
   "id": "ae28e06a-7dae-414a-832c-6c04fde3c59e",
   "metadata": {},
   "outputs": [],
   "source": [
    "print('Accuracy on training data = ',training_data_accuracy )"
   ]
  },
  {
   "cell_type": "code",
   "execution_count": null,
   "id": "acc2afa6-1348-458a-a130-0aeb3242f77d",
   "metadata": {},
   "outputs": [],
   "source": [
    "x_test_prediction = model.predict(x_test)\n",
    "test_data_accuracy = accuracy_score(y_test, x_test_prediction)\n",
    "print('Accuracy on training data = ',test_data_accuracy)"
   ]
  },
  {
   "cell_type": "code",
   "execution_count": null,
   "id": "f246cf3b-99f3-46df-bf51-8f72e090d7d5",
   "metadata": {},
   "outputs": [],
   "source": [
    "input_data = (13.64,16.34,87.21,571.8,0.07685,0.06059,0.01857,0.01723,0.1353,0.05953,0.1872,0.9234,1.449,14.55,0.004477,0.01177,0.01079,0.007956,0.01325,0.002551,14.67,23.19,96.08,656.7,0.1089,0.1582,0.105,0.08586,0.2346,0.08025)"
   ]
  },
  {
   "cell_type": "code",
   "execution_count": null,
   "id": "34d6d700-8de7-4018-8de7-c4e6aea1aa1f",
   "metadata": {},
   "outputs": [],
   "source": [
    "input_data_as_numpy_array = np.asarray(input_data)"
   ]
  },
  {
   "cell_type": "code",
   "execution_count": null,
   "id": "07fe6c81-7302-49e1-9c8d-7a13aaf33129",
   "metadata": {},
   "outputs": [],
   "source": [
    "input_data_reshaped = input_data_as_numpy_array.reshape(1,-1)"
   ]
  },
  {
   "cell_type": "code",
   "execution_count": null,
   "id": "93582ad7-a9d7-47c9-9657-d58ea2b7258d",
   "metadata": {},
   "outputs": [],
   "source": [
    "prediction = model.predict(input_data_reshaped)\n",
    "print(prediction)"
   ]
  },
  {
   "cell_type": "code",
   "execution_count": null,
   "id": "4bd0ddce-882e-4558-b286-46d17c280a33",
   "metadata": {},
   "outputs": [],
   "source": [
    "if(prediction[0] == 0):\n",
    "    print('The Breast Cancer is Malignant')\n",
    "else:\n",
    "    print('The Breast Cancer is Benign')"
   ]
  }
 ],
 "metadata": {
  "kernelspec": {
   "display_name": "Python 3 (ipykernel)",
   "language": "python",
   "name": "python3"
  },
  "language_info": {
   "codemirror_mode": {
    "name": "ipython",
    "version": 3
   },
   "file_extension": ".py",
   "mimetype": "text/x-python",
   "name": "python",
   "nbconvert_exporter": "python",
   "pygments_lexer": "ipython3",
   "version": "3.12.7"
  }
 },
 "nbformat": 4,
 "nbformat_minor": 5
}
